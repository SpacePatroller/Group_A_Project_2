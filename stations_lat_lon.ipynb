{
 "cells": [
  {
   "cell_type": "code",
   "execution_count": 33,
   "metadata": {},
   "outputs": [],
   "source": [
    "import pandas as pd\n",
    "import numpy as np\n",
    "import os\n",
    "\n",
    "import sqlalchemy\n",
    "from sqlalchemy import create_engine\n",
    "from sqlalchemy.orm import sessionmaker\n",
    "from sqlalchemy.ext.automap import automap_base\n",
    "from sqlalchemy.orm import Session\n",
    "from sqlalchemy import create_engine, func\n",
    "from flask_sqlalchemy import SQLAlchemy\n",
    "from sqlalchemy import inspect"
   ]
  },
  {
   "cell_type": "code",
   "execution_count": 34,
   "metadata": {},
   "outputs": [],
   "source": [
    "df = pd.read_csv('data/Stations.csv')"
   ]
  },
  {
   "cell_type": "code",
   "execution_count": 35,
   "metadata": {},
   "outputs": [
    {
     "data": {
      "text/html": [
       "<div>\n",
       "<style scoped>\n",
       "    .dataframe tbody tr th:only-of-type {\n",
       "        vertical-align: middle;\n",
       "    }\n",
       "\n",
       "    .dataframe tbody tr th {\n",
       "        vertical-align: top;\n",
       "    }\n",
       "\n",
       "    .dataframe thead th {\n",
       "        text-align: right;\n",
       "    }\n",
       "</style>\n",
       "<table border=\"1\" class=\"dataframe\">\n",
       "  <thead>\n",
       "    <tr style=\"text-align: right;\">\n",
       "      <th></th>\n",
       "      <th>Station ID</th>\n",
       "      <th>Complex ID</th>\n",
       "      <th>GTFS Stop ID</th>\n",
       "      <th>Division</th>\n",
       "      <th>Line</th>\n",
       "      <th>Stop Name</th>\n",
       "      <th>Borough</th>\n",
       "      <th>Daytime Routes</th>\n",
       "      <th>Structure</th>\n",
       "      <th>GTFS Latitude</th>\n",
       "      <th>GTFS Longitude</th>\n",
       "    </tr>\n",
       "  </thead>\n",
       "  <tbody>\n",
       "    <tr>\n",
       "      <th>0</th>\n",
       "      <td>1</td>\n",
       "      <td>1</td>\n",
       "      <td>R01</td>\n",
       "      <td>BMT</td>\n",
       "      <td>Astoria</td>\n",
       "      <td>Astoria - Ditmars Blvd</td>\n",
       "      <td>Q</td>\n",
       "      <td>N W</td>\n",
       "      <td>Elevated</td>\n",
       "      <td>40.775036</td>\n",
       "      <td>-73.912034</td>\n",
       "    </tr>\n",
       "    <tr>\n",
       "      <th>1</th>\n",
       "      <td>2</td>\n",
       "      <td>2</td>\n",
       "      <td>R03</td>\n",
       "      <td>BMT</td>\n",
       "      <td>Astoria</td>\n",
       "      <td>Astoria Blvd</td>\n",
       "      <td>Q</td>\n",
       "      <td>N W</td>\n",
       "      <td>Elevated</td>\n",
       "      <td>40.770258</td>\n",
       "      <td>-73.917843</td>\n",
       "    </tr>\n",
       "    <tr>\n",
       "      <th>2</th>\n",
       "      <td>3</td>\n",
       "      <td>3</td>\n",
       "      <td>R04</td>\n",
       "      <td>BMT</td>\n",
       "      <td>Astoria</td>\n",
       "      <td>30 Av</td>\n",
       "      <td>Q</td>\n",
       "      <td>N W</td>\n",
       "      <td>Elevated</td>\n",
       "      <td>40.766779</td>\n",
       "      <td>-73.921479</td>\n",
       "    </tr>\n",
       "    <tr>\n",
       "      <th>3</th>\n",
       "      <td>4</td>\n",
       "      <td>4</td>\n",
       "      <td>R05</td>\n",
       "      <td>BMT</td>\n",
       "      <td>Astoria</td>\n",
       "      <td>Broadway</td>\n",
       "      <td>Q</td>\n",
       "      <td>N W</td>\n",
       "      <td>Elevated</td>\n",
       "      <td>40.761820</td>\n",
       "      <td>-73.925508</td>\n",
       "    </tr>\n",
       "    <tr>\n",
       "      <th>4</th>\n",
       "      <td>5</td>\n",
       "      <td>5</td>\n",
       "      <td>R06</td>\n",
       "      <td>BMT</td>\n",
       "      <td>Astoria</td>\n",
       "      <td>36 Av</td>\n",
       "      <td>Q</td>\n",
       "      <td>N W</td>\n",
       "      <td>Elevated</td>\n",
       "      <td>40.756804</td>\n",
       "      <td>-73.929575</td>\n",
       "    </tr>\n",
       "  </tbody>\n",
       "</table>\n",
       "</div>"
      ],
      "text/plain": [
       "   Station ID  Complex ID GTFS Stop ID Division     Line  \\\n",
       "0           1           1          R01      BMT  Astoria   \n",
       "1           2           2          R03      BMT  Astoria   \n",
       "2           3           3          R04      BMT  Astoria   \n",
       "3           4           4          R05      BMT  Astoria   \n",
       "4           5           5          R06      BMT  Astoria   \n",
       "\n",
       "                Stop Name Borough Daytime Routes Structure  GTFS Latitude  \\\n",
       "0  Astoria - Ditmars Blvd       Q            N W  Elevated      40.775036   \n",
       "1            Astoria Blvd       Q            N W  Elevated      40.770258   \n",
       "2                   30 Av       Q            N W  Elevated      40.766779   \n",
       "3                Broadway       Q            N W  Elevated      40.761820   \n",
       "4                   36 Av       Q            N W  Elevated      40.756804   \n",
       "\n",
       "   GTFS Longitude  \n",
       "0      -73.912034  \n",
       "1      -73.917843  \n",
       "2      -73.921479  \n",
       "3      -73.925508  \n",
       "4      -73.929575  "
      ]
     },
     "execution_count": 35,
     "metadata": {},
     "output_type": "execute_result"
    }
   ],
   "source": [
    "df.head()"
   ]
  },
  {
   "cell_type": "code",
   "execution_count": 36,
   "metadata": {},
   "outputs": [
    {
     "data": {
      "text/plain": [
       "Station ID          int64\n",
       "Complex ID          int64\n",
       "GTFS Stop ID       object\n",
       "Division           object\n",
       "Line               object\n",
       "Stop Name          object\n",
       "Borough            object\n",
       "Daytime Routes     object\n",
       "Structure          object\n",
       "GTFS Latitude     float64\n",
       "GTFS Longitude    float64\n",
       "dtype: object"
      ]
     },
     "execution_count": 36,
     "metadata": {},
     "output_type": "execute_result"
    }
   ],
   "source": [
    "df.dtypes"
   ]
  },
  {
   "cell_type": "code",
   "execution_count": null,
   "metadata": {},
   "outputs": [],
   "source": []
  },
  {
   "cell_type": "code",
   "execution_count": 37,
   "metadata": {},
   "outputs": [],
   "source": [
    "engine = create_engine('mysql://root:@127.0.0.1:3306/mta')"
   ]
  },
  {
   "cell_type": "code",
   "execution_count": 38,
   "metadata": {},
   "outputs": [],
   "source": [
    "connection = (engine)"
   ]
  },
  {
   "cell_type": "code",
   "execution_count": 39,
   "metadata": {},
   "outputs": [],
   "source": [
    "df.to_sql('locations', con=engine)\n",
    "session = (engine)"
   ]
  },
  {
   "cell_type": "code",
   "execution_count": null,
   "metadata": {},
   "outputs": [],
   "source": []
  }
 ],
 "metadata": {
  "kernelspec": {
   "display_name": "Python 3",
   "language": "python",
   "name": "python3"
  },
  "language_info": {
   "codemirror_mode": {
    "name": "ipython",
    "version": 3
   },
   "file_extension": ".py",
   "mimetype": "text/x-python",
   "name": "python",
   "nbconvert_exporter": "python",
   "pygments_lexer": "ipython3",
   "version": "3.6.5"
  }
 },
 "nbformat": 4,
 "nbformat_minor": 2
}
