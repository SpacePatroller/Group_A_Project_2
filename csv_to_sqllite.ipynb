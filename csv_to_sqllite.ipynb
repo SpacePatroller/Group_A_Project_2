{
 "cells": [
  {
   "cell_type": "code",
   "execution_count": 1,
   "metadata": {},
   "outputs": [],
   "source": [
    "import pandas as pd\n",
    "import numpy as np\n",
    "import os\n",
    "\n",
    "import sqlalchemy\n",
    "from sqlalchemy import create_engine\n",
    "from sqlalchemy.orm import sessionmaker\n",
    "from sqlalchemy.ext.automap import automap_base\n",
    "from sqlalchemy.orm import Session\n",
    "from sqlalchemy import create_engine, func\n",
    "from flask_sqlalchemy import SQLAlchemy\n",
    "from sqlalchemy import inspect\n",
    "from sqlalchemy.engine import reflection"
   ]
  },
  {
   "cell_type": "code",
   "execution_count": 2,
   "metadata": {},
   "outputs": [],
   "source": [
    "df = pd.read_csv('data/Stations.csv')"
   ]
  },
  {
   "cell_type": "code",
   "execution_count": 3,
   "metadata": {},
   "outputs": [],
   "source": [
    "# df.head()"
   ]
  },
  {
   "cell_type": "code",
   "execution_count": 4,
   "metadata": {},
   "outputs": [],
   "source": [
    "engine = create_engine(\"sqlite:///mta.db.sqlite\")\n",
    "\n",
    "# reflect an existing database into a new model\n",
    "Base = automap_base()\n",
    "# reflect the tables\n",
    "Base.prepare(engine, reflect=True)\n",
    "# session connection to db\n",
    "session = Session(engine)"
   ]
  },
  {
   "cell_type": "code",
   "execution_count": 5,
   "metadata": {},
   "outputs": [
    {
     "name": "stdout",
     "output_type": "stream",
     "text": [
      "['sqlite_sequence', 'stationLocationData', 'turnStileData']\n"
     ]
    }
   ],
   "source": [
    "insp = reflection.Inspector.from_engine(engine)\n",
    "print(insp.get_table_names())"
   ]
  },
  {
   "cell_type": "markdown",
   "metadata": {},
   "source": [
    "### Read in Fares csv and Turnstiles Fares Sations csv to a Pandas DataFrame\n",
    "#### Join both data frames on Remote column\n",
    "#### Remove Duplicate columns\n",
    "#### Send to Sqlite DB\n"
   ]
  },
  {
   "cell_type": "code",
   "execution_count": 6,
   "metadata": {},
   "outputs": [],
   "source": [
    "dfOne = pd.read_csv('data/turnstiles_fares_stations2.csv')\n",
    "dfTwo = pd.read_csv('data/fares_190209.csv')"
   ]
  },
  {
   "cell_type": "code",
   "execution_count": 7,
   "metadata": {},
   "outputs": [
    {
     "data": {
      "text/html": [
       "<div>\n",
       "<style scoped>\n",
       "    .dataframe tbody tr th:only-of-type {\n",
       "        vertical-align: middle;\n",
       "    }\n",
       "\n",
       "    .dataframe tbody tr th {\n",
       "        vertical-align: top;\n",
       "    }\n",
       "\n",
       "    .dataframe thead th {\n",
       "        text-align: right;\n",
       "    }\n",
       "</style>\n",
       "<table border=\"1\" class=\"dataframe\">\n",
       "  <thead>\n",
       "    <tr style=\"text-align: right;\">\n",
       "      <th></th>\n",
       "      <th>UNIT</th>\n",
       "      <th>STATION</th>\n",
       "      <th>REMOTE</th>\n",
       "      <th>STATION</th>\n",
       "      <th>Station ID</th>\n",
       "    </tr>\n",
       "  </thead>\n",
       "  <tbody>\n",
       "    <tr>\n",
       "      <th>0</th>\n",
       "      <td>R095</td>\n",
       "      <td>ASTORIA DITMARS</td>\n",
       "      <td>R095</td>\n",
       "      <td>DITMARS BLVD &amp; 31ST STREET</td>\n",
       "      <td>1</td>\n",
       "    </tr>\n",
       "    <tr>\n",
       "      <th>1</th>\n",
       "      <td>R094</td>\n",
       "      <td>ASTORIA BLVD</td>\n",
       "      <td>R094</td>\n",
       "      <td>ASTORIA BLVD &amp; 31ST STREET</td>\n",
       "      <td>2</td>\n",
       "    </tr>\n",
       "    <tr>\n",
       "      <th>2</th>\n",
       "      <td>R093</td>\n",
       "      <td>30 AV</td>\n",
       "      <td>R093</td>\n",
       "      <td>30TH AVENUE &amp; 31ST STREET</td>\n",
       "      <td>3</td>\n",
       "    </tr>\n",
       "    <tr>\n",
       "      <th>3</th>\n",
       "      <td>R092</td>\n",
       "      <td>BROADWAY</td>\n",
       "      <td>R092</td>\n",
       "      <td>BROADWAY &amp; 31ST STREET</td>\n",
       "      <td>4</td>\n",
       "    </tr>\n",
       "    <tr>\n",
       "      <th>4</th>\n",
       "      <td>R091</td>\n",
       "      <td>36 AV</td>\n",
       "      <td>R091</td>\n",
       "      <td>36TH AVENUE &amp; 31ST STREET</td>\n",
       "      <td>5</td>\n",
       "    </tr>\n",
       "  </tbody>\n",
       "</table>\n",
       "</div>"
      ],
      "text/plain": [
       "   UNIT          STATION REMOTE                         STATION  Station ID\n",
       "0  R095  ASTORIA DITMARS   R095  DITMARS BLVD & 31ST STREET               1\n",
       "1  R094     ASTORIA BLVD   R094  ASTORIA BLVD & 31ST STREET               2\n",
       "2  R093            30 AV   R093  30TH AVENUE & 31ST STREET                3\n",
       "3  R092         BROADWAY   R092  BROADWAY & 31ST STREET                   4\n",
       "4  R091            36 AV   R091  36TH AVENUE & 31ST STREET                5"
      ]
     },
     "execution_count": 7,
     "metadata": {},
     "output_type": "execute_result"
    }
   ],
   "source": [
    "dfOne.head()"
   ]
  },
  {
   "cell_type": "code",
   "execution_count": 8,
   "metadata": {},
   "outputs": [
    {
     "data": {
      "text/html": [
       "<div>\n",
       "<style scoped>\n",
       "    .dataframe tbody tr th:only-of-type {\n",
       "        vertical-align: middle;\n",
       "    }\n",
       "\n",
       "    .dataframe tbody tr th {\n",
       "        vertical-align: top;\n",
       "    }\n",
       "\n",
       "    .dataframe thead th {\n",
       "        text-align: right;\n",
       "    }\n",
       "</style>\n",
       "<table border=\"1\" class=\"dataframe\">\n",
       "  <thead>\n",
       "    <tr style=\"text-align: right;\">\n",
       "      <th></th>\n",
       "      <th>REMOTE</th>\n",
       "      <th>STATION</th>\n",
       "      <th>FF</th>\n",
       "      <th>SEN/DIS</th>\n",
       "      <th>7-D AFAS UNL</th>\n",
       "      <th>30-D AFAS/RMF UNL</th>\n",
       "      <th>JOINT RR TKT</th>\n",
       "      <th>7-D UNL</th>\n",
       "      <th>30-D UNL</th>\n",
       "      <th>14-D RFM UNL</th>\n",
       "      <th>...</th>\n",
       "      <th>PATH 2-T</th>\n",
       "      <th>AIRTRAIN FF</th>\n",
       "      <th>AIRTRAIN 30-D</th>\n",
       "      <th>AIRTRAIN 10-T</th>\n",
       "      <th>AIRTRAIN MTHLY</th>\n",
       "      <th>STUDENTS</th>\n",
       "      <th>NICE 2-T</th>\n",
       "      <th>CUNY-120</th>\n",
       "      <th>CUNY-60</th>\n",
       "      <th></th>\n",
       "    </tr>\n",
       "  </thead>\n",
       "  <tbody>\n",
       "    <tr>\n",
       "      <th>0</th>\n",
       "      <td>R001</td>\n",
       "      <td>WHITEHALL STREET</td>\n",
       "      <td>59035</td>\n",
       "      <td>2875</td>\n",
       "      <td>415</td>\n",
       "      <td>1067</td>\n",
       "      <td>255</td>\n",
       "      <td>23503</td>\n",
       "      <td>37820</td>\n",
       "      <td>0</td>\n",
       "      <td>...</td>\n",
       "      <td>0</td>\n",
       "      <td>1069</td>\n",
       "      <td>0</td>\n",
       "      <td>0</td>\n",
       "      <td>0</td>\n",
       "      <td>2968</td>\n",
       "      <td>0</td>\n",
       "      <td>568</td>\n",
       "      <td>0</td>\n",
       "      <td>...</td>\n",
       "    </tr>\n",
       "    <tr>\n",
       "      <th>1</th>\n",
       "      <td>R003</td>\n",
       "      <td>CYPRESS HILLS</td>\n",
       "      <td>2682</td>\n",
       "      <td>147</td>\n",
       "      <td>16</td>\n",
       "      <td>41</td>\n",
       "      <td>0</td>\n",
       "      <td>2333</td>\n",
       "      <td>1325</td>\n",
       "      <td>0</td>\n",
       "      <td>...</td>\n",
       "      <td>0</td>\n",
       "      <td>30</td>\n",
       "      <td>0</td>\n",
       "      <td>0</td>\n",
       "      <td>0</td>\n",
       "      <td>544</td>\n",
       "      <td>0</td>\n",
       "      <td>45</td>\n",
       "      <td>0</td>\n",
       "      <td>...</td>\n",
       "    </tr>\n",
       "    <tr>\n",
       "      <th>2</th>\n",
       "      <td>R004</td>\n",
       "      <td>75TH STREET &amp; ELDERTS LANE</td>\n",
       "      <td>6865</td>\n",
       "      <td>433</td>\n",
       "      <td>61</td>\n",
       "      <td>138</td>\n",
       "      <td>1</td>\n",
       "      <td>4839</td>\n",
       "      <td>3680</td>\n",
       "      <td>0</td>\n",
       "      <td>...</td>\n",
       "      <td>0</td>\n",
       "      <td>51</td>\n",
       "      <td>0</td>\n",
       "      <td>0</td>\n",
       "      <td>0</td>\n",
       "      <td>2420</td>\n",
       "      <td>0</td>\n",
       "      <td>53</td>\n",
       "      <td>0</td>\n",
       "      <td>...</td>\n",
       "    </tr>\n",
       "    <tr>\n",
       "      <th>3</th>\n",
       "      <td>R005</td>\n",
       "      <td>85TH STREET &amp; FOREST PKWAY</td>\n",
       "      <td>7614</td>\n",
       "      <td>562</td>\n",
       "      <td>67</td>\n",
       "      <td>186</td>\n",
       "      <td>2</td>\n",
       "      <td>5007</td>\n",
       "      <td>4155</td>\n",
       "      <td>0</td>\n",
       "      <td>...</td>\n",
       "      <td>0</td>\n",
       "      <td>71</td>\n",
       "      <td>0</td>\n",
       "      <td>0</td>\n",
       "      <td>0</td>\n",
       "      <td>1249</td>\n",
       "      <td>0</td>\n",
       "      <td>100</td>\n",
       "      <td>0</td>\n",
       "      <td>...</td>\n",
       "    </tr>\n",
       "    <tr>\n",
       "      <th>4</th>\n",
       "      <td>R006</td>\n",
       "      <td>WOODHAVEN BOULEVARD</td>\n",
       "      <td>7835</td>\n",
       "      <td>477</td>\n",
       "      <td>57</td>\n",
       "      <td>169</td>\n",
       "      <td>0</td>\n",
       "      <td>6838</td>\n",
       "      <td>4732</td>\n",
       "      <td>0</td>\n",
       "      <td>...</td>\n",
       "      <td>0</td>\n",
       "      <td>64</td>\n",
       "      <td>0</td>\n",
       "      <td>0</td>\n",
       "      <td>0</td>\n",
       "      <td>1542</td>\n",
       "      <td>0</td>\n",
       "      <td>113</td>\n",
       "      <td>0</td>\n",
       "      <td>...</td>\n",
       "    </tr>\n",
       "  </tbody>\n",
       "</table>\n",
       "<p>5 rows × 29 columns</p>\n",
       "</div>"
      ],
      "text/plain": [
       "  REMOTE                         STATION     FF  SEN/DIS   7-D AFAS UNL  \\\n",
       "0   R001  WHITEHALL STREET                59035     2875            415   \n",
       "1   R003  CYPRESS HILLS                    2682      147             16   \n",
       "2   R004  75TH STREET & ELDERTS LANE       6865      433             61   \n",
       "3   R005  85TH STREET & FOREST PKWAY       7614      562             67   \n",
       "4   R006  WOODHAVEN BOULEVARD              7835      477             57   \n",
       "\n",
       "   30-D AFAS/RMF UNL  JOINT RR TKT  7-D UNL  30-D UNL  14-D RFM UNL  \\\n",
       "0               1067           255    23503     37820             0   \n",
       "1                 41             0     2333      1325             0   \n",
       "2                138             1     4839      3680             0   \n",
       "3                186             2     5007      4155             0   \n",
       "4                169             0     6838      4732             0   \n",
       "\n",
       "                                  ...                                   \\\n",
       "0                                 ...                                    \n",
       "1                                 ...                                    \n",
       "2                                 ...                                    \n",
       "3                                 ...                                    \n",
       "4                                 ...                                    \n",
       "\n",
       "   PATH 2-T  AIRTRAIN FF  AIRTRAIN 30-D  AIRTRAIN 10-T  AIRTRAIN MTHLY  \\\n",
       "0         0         1069              0              0               0   \n",
       "1         0           30              0              0               0   \n",
       "2         0           51              0              0               0   \n",
       "3         0           71              0              0               0   \n",
       "4         0           64              0              0               0   \n",
       "\n",
       "   STUDENTS  NICE 2-T  CUNY-120  CUNY-60  \\\n",
       "0      2968         0       568        0   \n",
       "1       544         0        45        0   \n",
       "2      2420         0        53        0   \n",
       "3      1249         0       100        0   \n",
       "4      1542         0       113        0   \n",
       "\n",
       "                                                                        \n",
       "0                                                ...                    \n",
       "1                                                ...                    \n",
       "2                                                ...                    \n",
       "3                                                ...                    \n",
       "4                                                ...                    \n",
       "\n",
       "[5 rows x 29 columns]"
      ]
     },
     "execution_count": 8,
     "metadata": {},
     "output_type": "execute_result"
    }
   ],
   "source": [
    "dfTwo.head()"
   ]
  },
  {
   "cell_type": "markdown",
   "metadata": {},
   "source": [
    "#### Merge Both tables on remote column\n"
   ]
  },
  {
   "cell_type": "code",
   "execution_count": 11,
   "metadata": {},
   "outputs": [],
   "source": [
    "fareData = pd.merge(dfOne, dfTwo, on='REMOTE',how=\"outer\")"
   ]
  },
  {
   "cell_type": "markdown",
   "metadata": {},
   "source": [
    "##### Set index to Station ID"
   ]
  },
  {
   "cell_type": "code",
   "execution_count": 12,
   "metadata": {},
   "outputs": [],
   "source": [
    "fareData.set_index('Station ID', inplace=True)"
   ]
  },
  {
   "cell_type": "code",
   "execution_count": 13,
   "metadata": {},
   "outputs": [],
   "source": [
    "# fareData.head(1)"
   ]
  },
  {
   "cell_type": "markdown",
   "metadata": {},
   "source": [
    "##### Remove duplicate columns"
   ]
  },
  {
   "cell_type": "code",
   "execution_count": 14,
   "metadata": {},
   "outputs": [],
   "source": [
    "fareData.drop(columns=[' STATION_x', ' STATION_y'], inplace=True)"
   ]
  },
  {
   "cell_type": "code",
   "execution_count": 15,
   "metadata": {},
   "outputs": [],
   "source": [
    "# fareData.head(1)"
   ]
  },
  {
   "cell_type": "markdown",
   "metadata": {},
   "source": [
    "#### Take updated fare data and add to sqllite DB"
   ]
  },
  {
   "cell_type": "code",
   "execution_count": 16,
   "metadata": {},
   "outputs": [],
   "source": [
    "fareData.to_sql('fareData', con=engine)"
   ]
  },
  {
   "cell_type": "code",
   "execution_count": null,
   "metadata": {},
   "outputs": [],
   "source": [
    "# check to see that db has both tables\n",
    "insp = reflection.Inspector.from_engine(engine)\n",
    "print(insp.get_table_names())"
   ]
  },
  {
   "cell_type": "markdown",
   "metadata": {},
   "source": [
    "### Read in turnstiles_190209.csv and turnstiles_fares_stations2.csv to a Pandas DataFrame\n",
    "#### Join both data frames on Remote column\n",
    "#### Remove Duplicate columns\n",
    "#### Send to Sqlite DB\n"
   ]
  },
  {
   "cell_type": "code",
   "execution_count": null,
   "metadata": {},
   "outputs": [],
   "source": [
    "dfOne = pd.read_csv('data/turnstiles_fares_stations2.csv')\n",
    "dfThree = pd.read_csv('data/turnstiles_190209.csv')"
   ]
  },
  {
   "cell_type": "code",
   "execution_count": null,
   "metadata": {},
   "outputs": [],
   "source": [
    "dfOne.head(1)"
   ]
  },
  {
   "cell_type": "code",
   "execution_count": null,
   "metadata": {},
   "outputs": [],
   "source": [
    "dfThree.head(1)"
   ]
  },
  {
   "cell_type": "code",
   "execution_count": null,
   "metadata": {},
   "outputs": [],
   "source": [
    "turnstileData = pd.merge(dfOne, dfThree, on='UNIT')"
   ]
  },
  {
   "cell_type": "code",
   "execution_count": null,
   "metadata": {},
   "outputs": [],
   "source": [
    "turnstileData.head(1)"
   ]
  },
  {
   "cell_type": "code",
   "execution_count": null,
   "metadata": {},
   "outputs": [],
   "source": [
    "turnstileData.drop(columns=['STATION_x', 'STATION_y'], inplace=True)"
   ]
  },
  {
   "cell_type": "code",
   "execution_count": null,
   "metadata": {},
   "outputs": [],
   "source": [
    "turnstileData.set_index('Station ID',inplace=True)\n",
    "turnstileData.head(1)"
   ]
  },
  {
   "cell_type": "code",
   "execution_count": null,
   "metadata": {},
   "outputs": [],
   "source": [
    "# turnstileData.to_sql('turnStileData', con=engine)"
   ]
  },
  {
   "cell_type": "code",
   "execution_count": null,
   "metadata": {},
   "outputs": [],
   "source": []
  }
 ],
 "metadata": {
  "kernelspec": {
   "display_name": "Python 3",
   "language": "python",
   "name": "python3"
  },
  "language_info": {
   "codemirror_mode": {
    "name": "ipython",
    "version": 3
   },
   "file_extension": ".py",
   "mimetype": "text/x-python",
   "name": "python",
   "nbconvert_exporter": "python",
   "pygments_lexer": "ipython3",
   "version": "3.6.5"
  }
 },
 "nbformat": 4,
 "nbformat_minor": 2
}
